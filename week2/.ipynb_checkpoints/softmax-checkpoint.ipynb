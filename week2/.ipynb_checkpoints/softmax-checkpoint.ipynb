{
 "cells": [
  {
   "cell_type": "markdown",
   "metadata": {},
   "source": [
    "# Softmax exercise\n",
    "\n",
    "\n",
    "In this exercise you will:\n",
    "\n",
    "- implement a fully-vectorized **loss function** for the Softmax classifier\n",
    "- implement the fully-vectorized expression for its **analytic gradient**\n",
    "- **check your implementation** with numerical gradient\n",
    "- use a validation set to **tune the learning rate \n",
    "- **optimize** the loss function with **SGD**\n",
    "- **visualize** the final learned weights\n",
    "\n",
    "\n",
    "If you are not using a linux-computer at IFI, go to in5400/datasets and download the data as described in the knn-notebook.\n"
   ]
  },
  {
   "cell_type": "code",
   "execution_count": 27,
   "metadata": {},
   "outputs": [
    {
     "name": "stdout",
     "output_type": "stream",
     "text": [
      "The autoreload extension is already loaded. To reload it, use:\n",
      "  %reload_ext autoreload\n"
     ]
    }
   ],
   "source": [
    "import random\n",
    "import numpy as np\n",
    "from in5400.data_utils import load_CIFAR10\n",
    "import matplotlib.pyplot as plt\n",
    "\n",
    "\n",
    "\n",
    "\n",
    "%matplotlib inline\n",
    "\n",
    "plt.rcParams['figure.figsize'] = (10.0, 8.0) # set default size of plots\n",
    "plt.rcParams['image.interpolation'] = 'nearest'\n",
    "plt.rcParams['image.cmap'] = 'gray'\n",
    "\n",
    "# for auto-reloading extenrnal modules\n",
    "# see http://stackoverflow.com/questions/1907993/autoreload-of-modules-in-ipython\n",
    "%load_ext autoreload\n",
    "%autoreload 2"
   ]
  },
  {
   "cell_type": "code",
   "execution_count": 106,
   "metadata": {},
   "outputs": [
    {
     "name": "stdout",
     "output_type": "stream",
     "text": [
      "x train  (50000, 32, 32, 3)\n",
      "first X train (49000, 3072)\n",
      "bias trick (49000, 3073)\n",
      "Train data shape:  (49000, 3073)\n",
      "Train labels shape:  (49000,)\n",
      "Validation data shape:  (1000, 3073)\n",
      "Validation labels shape:  (1000,)\n",
      "Test data shape:  (1000, 3073)\n",
      "Test labels shape:  (1000,)\n",
      "dev data shape:  (500, 3073)\n",
      "dev labels shape:  (500,)\n"
     ]
    }
   ],
   "source": [
    "def get_CIFAR10_data(num_training=49000, num_validation=1000, num_test=1000, num_dev=500):\n",
    "    \"\"\"\n",
    "    Load the CIFAR-10 dataset from disk and perform preprocessing to prepare\n",
    "    it for the linear classifier.  \n",
    "    \"\"\"\n",
    "    # Load the raw CIFAR-10 data\n",
    "    cifar10_dir = 'in5400/datasets/cifar-10-batches-py'\n",
    "    #cifar10_dir = '/projects/in5400/CIFAR-10/cifar-10-batches-py'\n",
    "    \n",
    "    X_train, y_train, X_test, y_test = load_CIFAR10(cifar10_dir)\n",
    "    print('x train ', X_train.shape)\n",
    "    \n",
    "    # subsample the data to use the split the training data into a training and a validation subset\n",
    "    mask = list(range(num_training, num_training + num_validation))\n",
    "    X_val = X_train[mask]\n",
    "    y_val = y_train[mask]\n",
    "    mask = list(range(num_training))\n",
    "    X_train = X_train[mask]\n",
    "    y_train = y_train[mask]\n",
    "    mask = list(range(num_test))\n",
    "    X_test = X_test[mask]\n",
    "    y_test = y_test[mask]\n",
    "    mask = np.random.choice(num_training, num_dev, replace=False)\n",
    "    X_dev = X_train[mask]\n",
    "    y_dev = y_train[mask]\n",
    "    \n",
    "    # Preprocessing: reshape the image data into rows\n",
    "    X_train = np.reshape(X_train, (X_train.shape[0], -1))\n",
    "    print('first X train', X_train.shape)\n",
    "    X_val = np.reshape(X_val, (X_val.shape[0], -1))\n",
    "    X_test = np.reshape(X_test, (X_test.shape[0], -1))\n",
    "    X_dev = np.reshape(X_dev, (X_dev.shape[0], -1))\n",
    "    \n",
    "    # Normalize the data: subtract the mean image\n",
    "    mean_image = np.mean(X_train, axis = 0)\n",
    "    X_train -= mean_image\n",
    "    X_val -= mean_image\n",
    "    X_test -= mean_image\n",
    "    X_dev -= mean_image\n",
    "    \n",
    "    # add bias dimension and transform into columns\n",
    "    X_train = np.hstack([X_train, np.ones((X_train.shape[0], 1))])\n",
    "    print('bias trick', X_train.shape)\n",
    "    X_val = np.hstack([X_val, np.ones((X_val.shape[0], 1))])\n",
    "    X_test = np.hstack([X_test, np.ones((X_test.shape[0], 1))])\n",
    "    X_dev = np.hstack([X_dev, np.ones((X_dev.shape[0], 1))])\n",
    "    \n",
    "    return X_train, y_train, X_val, y_val, X_test, y_test, X_dev, y_dev\n",
    "\n",
    "\n",
    "# Invoke the above function to get our data.\n",
    "X_train, y_train, X_val, y_val, X_test, y_test, X_dev, y_dev = get_CIFAR10_data()\n",
    "print('Train data shape: ', X_train.shape)\n",
    "print('Train labels shape: ', y_train.shape)\n",
    "print('Validation data shape: ', X_val.shape)\n",
    "print('Validation labels shape: ', y_val.shape)\n",
    "print('Test data shape: ', X_test.shape)\n",
    "print('Test labels shape: ', y_test.shape)\n",
    "print('dev data shape: ', X_dev.shape)\n",
    "print('dev labels shape: ', y_dev.shape)"
   ]
  },
  {
   "cell_type": "code",
   "execution_count": 110,
   "metadata": {},
   "outputs": [
    {
     "name": "stdout",
     "output_type": "stream",
     "text": [
      "[[ 165  180  195]\n",
      " [ 435  486  537]\n",
      " [ 705  792  879]\n",
      " [ 975 1098 1221]\n",
      " [1245 1404 1563]\n",
      " [1515 1710 1905]]\n",
      "[[ 165  181  197]\n",
      " [ 435  487  539]\n",
      " [ 705  793  881]\n",
      " [ 975 1099 1223]\n",
      " [1245 1405 1565]\n",
      " [1515 1711 1907]]\n"
     ]
    }
   ],
   "source": [
    "weight = np.arange(18).reshape(6,3)\n",
    "bias = np.arange(3)\n",
    "inp = np.arange(36).reshape(6,6)\n",
    "a = inp @ weight\n",
    "b = a + bias\n",
    "print(a)\n",
    "print(b)"
   ]
  },
  {
   "cell_type": "markdown",
   "metadata": {},
   "source": [
    "## Softmax Classifier\n",
    "\n",
    "Your code for this section will all be written inside **in5400/classifiers/softmax.py**. \n",
    "The loss for one sample is \n",
    "$L_i = -\\log\\left(\\frac{e^{f_{y_i}}}{ \\sum_j e^{f_j} }\\right) \\hspace{0.5in}$\n",
    "\n",
    "You should sum over all samples"
   ]
  },
  {
   "cell_type": "code",
   "execution_count": 25,
   "metadata": {},
   "outputs": [
    {
     "name": "stdout",
     "output_type": "stream",
     "text": [
      "[[0. 1. 0. 0. 0. 0. 0. 0. 0. 0.]\n",
      " [0. 0. 1. 0. 0. 0. 0. 0. 0. 0.]\n",
      " [0. 0. 0. 1. 0. 0. 0. 0. 0. 0.]\n",
      " [0. 0. 0. 0. 1. 0. 0. 0. 0. 0.]\n",
      " [0. 0. 0. 0. 0. 1. 0. 0. 0. 0.]\n",
      " [0. 0. 0. 0. 0. 0. 0. 0. 0. 1.]]\n"
     ]
    }
   ],
   "source": [
    "from in5400.classifiers.softmax import one_hot\n",
    "x = [1,2,3,4,5,9]\n",
    "print(one_hot(x))"
   ]
  },
  {
   "cell_type": "code",
   "execution_count": 92,
   "metadata": {},
   "outputs": [
    {
     "name": "stdout",
     "output_type": "stream",
     "text": [
      "[ 2  5  8 11 14 17]\n",
      "[[ 2]\n",
      " [ 5]\n",
      " [ 8]\n",
      " [11]\n",
      " [14]\n",
      " [17]]\n",
      "17\n",
      "[1. 1. 1. 1. 1. 1.]\n",
      "[[ 0  1  2]\n",
      " [ 3  4  5]\n",
      " [ 6  7  8]\n",
      " [ 9 10 11]\n",
      " [12 13 14]\n",
      " [15 16 17]]\n",
      "[  5  50 149 302 509 770]\n"
     ]
    }
   ],
   "source": [
    "def softmax(x):\n",
    "    print(x.max(axis=1))\n",
    "    print(x.max(axis=1, keepdims = True))\n",
    "    print(x.max())\n",
    "    x = x - x.max(axis = 1, keepdims = True)\n",
    "    t = x - np.log(np.sum(np.exp(x), axis = 1, keepdims = True))\n",
    "    return np.exp(t)\n",
    "b = np.arange(18).reshape(6,3)\n",
    "\n",
    "print(np.sum(softmax(b), axis = 1))\n",
    "\n",
    "a = np.arange(18).reshape(6,3)\n",
    "b = np.arange(18).reshape(6,3)\n",
    "print(a)\n",
    "print(np.sum(a*b, axis = 1))"
   ]
  },
  {
   "cell_type": "code",
   "execution_count": 96,
   "metadata": {},
   "outputs": [
    {
     "name": "stdout",
     "output_type": "stream",
     "text": [
      "(500, 10)\n",
      "(500, 10)\n",
      "[[ 0.08833551  0.14377423  0.13409854 ...  0.04932898  0.10983206\n",
      "   0.04953264]\n",
      " [-0.89690752  0.11464019  0.07647937 ...  0.05632914  0.09280853\n",
      "   0.11630287]\n",
      " [ 0.07765827 -0.92753498  0.080015   ...  0.09733774  0.08246265\n",
      "   0.11591882]\n",
      " ...\n",
      " [ 0.0922222   0.06033008  0.06336701 ...  0.17649528  0.11120681\n",
      "  -0.882136  ]\n",
      " [ 0.10671869  0.14199556  0.09988135 ...  0.05753191  0.11290691\n",
      "   0.08012567]\n",
      " [-0.8557291   0.07730139  0.0803284  ...  0.04069534  0.05514832\n",
      "   0.13000251]]\n",
      "(500, 10)\n",
      "loss: 2.347576\n",
      "sanity check: 2.302585\n"
     ]
    }
   ],
   "source": [
    "# First implement the naive softmax loss function with nested loops.\n",
    "# Open the file inf5860/classifiers/softmax.py and implement the\n",
    "# softmax_loss_naive function.\n",
    "\n",
    "from in5400.classifiers.softmax import softmax_loss_naive, one_hot, softmax\n",
    "import time\n",
    "\n",
    "# Generate a random softmax weight matrix and use it to compute the loss.\n",
    "W = np.random.randn(3073, 10) * 0.0001\n",
    "loss, grad = softmax_loss_naive(W, X_dev, y_dev)\n",
    "\n",
    "# As a rough sanity check, our loss should be something close to -log(0.1).\n",
    "print('loss: %f' % loss)\n",
    "print('sanity check: %f' % (-np.log(0.1)))"
   ]
  },
  {
   "cell_type": "markdown",
   "metadata": {},
   "source": [
    "## Inline Question 1:\n",
    "\n",
    "To answer inline questions: double click on this cell and you will be able to edit it. Fill in your text answer below.\n",
    "\n",
    "Why do we expect our loss to be close to -log(0.1)? Explain briefly.**\n",
    "\n",
    "**Your answer:** *Fill this in*\n"
   ]
  },
  {
   "cell_type": "code",
   "execution_count": 12,
   "metadata": {},
   "outputs": [
    {
     "name": "stdout",
     "output_type": "stream",
     "text": [
      "numerical: 0.000000 analytic: 0.000000, relative error: nan\n",
      "numerical: 0.000000 analytic: 0.000000, relative error: nan\n",
      "numerical: 0.000000 analytic: 0.000000, relative error: nan\n",
      "numerical: 0.000000 analytic: 0.000000, relative error: nan\n",
      "numerical: 0.000000 analytic: 0.000000, relative error: nan\n",
      "numerical: 0.000000 analytic: 0.000000, relative error: nan\n",
      "numerical: 0.000000 analytic: 0.000000, relative error: nan\n",
      "numerical: 0.000000 analytic: 0.000000, relative error: nan\n",
      "numerical: 0.000000 analytic: 0.000000, relative error: nan\n",
      "numerical: 0.000000 analytic: 0.000000, relative error: nan\n"
     ]
    }
   ],
   "source": [
    "# Complete the implementation of softmax_loss_naive and implement a (naive)\n",
    "# version of the gradient that uses nested loops.\n",
    "loss, grad = softmax_loss_naive(W, X_dev, y_dev)\n",
    "\n",
    "# Use numeric gradient checking as a debugging tool.\n",
    "# The numeric gradient should be close to the analytic gradient.\n",
    "from in5400.gradient_check import grad_check_sparse\n",
    "f = lambda w: softmax_loss_naive(w, X_dev, y_dev)[0]\n",
    "grad_numerical = grad_check_sparse(f, W, grad, 10)\n",
    "\n"
   ]
  },
  {
   "cell_type": "markdown",
   "metadata": {},
   "source": [
    "Since the numbers are small, the gradient are also small, and your difference should also be very small, arbound e-07 or smaller"
   ]
  },
  {
   "cell_type": "code",
   "execution_count": 13,
   "metadata": {},
   "outputs": [
    {
     "name": "stdout",
     "output_type": "stream",
     "text": [
      "naive loss: 0.000000e+00 computed in 0.000161s\n",
      "vectorized loss: 0.000000e+00 computed in 0.000345s\n",
      "Loss difference: 0.000000\n",
      "Gradient difference: 0.000000\n"
     ]
    }
   ],
   "source": [
    "# Now that we have a naive implementation of the softmax loss function and its gradient,\n",
    "# implement a vectorized version in softmax_loss_vectorized.\n",
    "# The two versions should compute the same results, but the vectorized version should be\n",
    "# much faster.\n",
    "tic = time.time()\n",
    "loss_naive, grad_naive = softmax_loss_naive(W, X_dev, y_dev)\n",
    "toc = time.time()\n",
    "print('naive loss: %e computed in %fs' % (loss_naive, toc - tic))\n",
    "\n",
    "from in5400.classifiers.softmax import softmax_loss_vectorized\n",
    "tic = time.time()\n",
    "loss_vectorized, grad_vectorized = softmax_loss_vectorized(W, X_dev, y_dev)\n",
    "toc = time.time()\n",
    "print('vectorized loss: %e computed in %fs' % (loss_vectorized, toc - tic))\n",
    "\n",
    "\n",
    "grad_difference = np.linalg.norm(grad_naive - grad_vectorized, ord='fro')\n",
    "print('Loss difference: %f' % np.abs(loss_naive - loss_vectorized))\n",
    "print('Gradient difference: %f' % grad_difference)"
   ]
  },
  {
   "cell_type": "code",
   "execution_count": null,
   "metadata": {},
   "outputs": [],
   "source": []
  },
  {
   "cell_type": "markdown",
   "metadata": {},
   "source": [
    "The difference in loss should be smaller than 0.1, and the gradient difference close to 0. \n"
   ]
  },
  {
   "cell_type": "code",
   "execution_count": 99,
   "metadata": {},
   "outputs": [
    {
     "name": "stdout",
     "output_type": "stream",
     "text": [
      "iteration 0 / 1000: loss 6.106017\n",
      "iteration 100 / 1000: loss 7.418529\n",
      "iteration 200 / 1000: loss 6.279965\n",
      "iteration 300 / 1000: loss 3.991774\n",
      "iteration 400 / 1000: loss 4.242794\n",
      "iteration 500 / 1000: loss 6.909081\n",
      "iteration 600 / 1000: loss 6.127337\n",
      "iteration 700 / 1000: loss 5.187592\n",
      "iteration 800 / 1000: loss 5.674059\n",
      "iteration 900 / 1000: loss 4.378246\n",
      "iteration 0 / 1000: loss 6.062792\n",
      "iteration 100 / 1000: loss 9.053170\n",
      "iteration 200 / 1000: loss 7.290269\n",
      "iteration 300 / 1000: loss 14.282995\n",
      "iteration 400 / 1000: loss 8.249983\n",
      "iteration 500 / 1000: loss 13.420369\n",
      "iteration 600 / 1000: loss 9.251466\n",
      "iteration 700 / 1000: loss 12.959246\n",
      "iteration 800 / 1000: loss 11.810757\n",
      "iteration 900 / 1000: loss 16.834578\n",
      "iteration 0 / 1000: loss 5.286579\n",
      "iteration 100 / 1000: loss 24.628949\n",
      "iteration 200 / 1000: loss 15.986894\n",
      "iteration 300 / 1000: loss 14.873345\n",
      "iteration 400 / 1000: loss 13.335058\n",
      "iteration 500 / 1000: loss 23.474865\n",
      "iteration 600 / 1000: loss 17.008241\n",
      "iteration 700 / 1000: loss 20.066188\n",
      "iteration 800 / 1000: loss 29.728283\n",
      "iteration 900 / 1000: loss 14.900375\n",
      "iteration 0 / 1000: loss 4.823117\n",
      "iteration 100 / 1000: loss 24.287003\n",
      "iteration 200 / 1000: loss 26.610149\n",
      "iteration 300 / 1000: loss 19.105530\n",
      "iteration 400 / 1000: loss 27.552183\n",
      "iteration 500 / 1000: loss 19.990493\n",
      "iteration 600 / 1000: loss 28.213997\n",
      "iteration 700 / 1000: loss 23.611762\n",
      "iteration 800 / 1000: loss 21.895939\n",
      "iteration 900 / 1000: loss 18.192139\n",
      "iteration 0 / 1000: loss 5.451850\n",
      "iteration 100 / 1000: loss 24.362001\n",
      "iteration 200 / 1000: loss 24.752536\n",
      "iteration 300 / 1000: loss 31.083623\n",
      "iteration 400 / 1000: loss 24.893079\n",
      "iteration 500 / 1000: loss 22.860417\n",
      "iteration 600 / 1000: loss 20.346007\n",
      "iteration 700 / 1000: loss 27.217431\n",
      "iteration 800 / 1000: loss 27.768932\n",
      "iteration 900 / 1000: loss 32.613882\n",
      "lr 1.000000e-07 train accuracy: 0.305837 val accuracy: 0.277000\n",
      "lr 2.000000e-07 train accuracy: 0.328796 val accuracy: 0.326000\n",
      "lr 3.000000e-07 train accuracy: 0.321163 val accuracy: 0.317000\n",
      "lr 4.000000e-07 train accuracy: 0.297163 val accuracy: 0.289000\n",
      "lr 5.000000e-07 train accuracy: 0.319918 val accuracy: 0.299000\n",
      "best validation accuracy achieved during cross-validation: 0.326000\n"
     ]
    }
   ],
   "source": [
    "# Use the validation set to tune hyperparameters # learning rate). You should experiment with different ranges for the learning\n",
    "# rates; if you are careful you should be able to\n",
    "# get a classification accuracy of 30% on the validation set.\n",
    "from in5400.classifiers import Softmax\n",
    "results = {}\n",
    "best_val = -1\n",
    "best_softmax = None\n",
    "learning_rates = [1e-7, 5e-7]\n",
    "\n",
    "\n",
    "################################################################################\n",
    "# TODO:                                                                        #\n",
    "# Use the validation set to set the learning rate and regularization strength. #\n",
    "# This should be identical to the validation that you did for the SVM; save    #\n",
    "# the best trained softmax classifer in best_softmax.                          #\n",
    "################################################################################\n",
    "for lr in np.linspace(learning_rates[0], learning_rates[1], 5):\n",
    "    \n",
    "        softmax = Softmax()\n",
    "        loss_hist = softmax.train(X_train, y_train, learning_rate=lr, num_iters=1000, verbose=True)        \n",
    "        y_train_acc = (softmax.predict(X_train) == y_train).mean()\n",
    "        y_val_acc = (softmax.predict(X_val) == y_val).mean()\n",
    "        results[(lr)] = (y_train_acc, y_val_acc)\n",
    "        if y_val_acc > best_val:\n",
    "            best_val = y_val_acc\n",
    "            best_softmax = softmax\n",
    "            \n",
    "################################################################################\n",
    "#                              END OF YOUR CODE                                #\n",
    "################################################################################\n",
    "    \n",
    "# Print out results.\n",
    "for lr  in sorted(results):\n",
    "    train_accuracy, val_accuracy = results[(lr)]\n",
    "    print('lr %e train accuracy: %f val accuracy: %f' % (\n",
    "                lr,  train_accuracy, val_accuracy))\n",
    "    \n",
    "print('best validation accuracy achieved during cross-validation: %f' % best_val)\n",
    "\n",
    "\n"
   ]
  },
  {
   "cell_type": "code",
   "execution_count": 104,
   "metadata": {},
   "outputs": [
    {
     "name": "stdout",
     "output_type": "stream",
     "text": [
      "softmax on raw pixels final test set accuracy: 0.317000\n"
     ]
    }
   ],
   "source": [
    "# evaluate on test set\n",
    "# Evaluate the best softmax on test set\n",
    "y_test_pred = best_softmax.predict(X_test)\n",
    "test_accuracy = np.mean(y_test == y_test_pred)\n",
    "print('softmax on raw pixels final test set accuracy: %f' % (test_accuracy, ))"
   ]
  },
  {
   "cell_type": "code",
   "execution_count": 105,
   "metadata": {},
   "outputs": [
    {
     "data": {
      "image/png": "[encoded data removed]",
      "text/plain": [
       "<Figure size 720x576 with 10 Axes>"
      ]
     },
     "metadata": {
      "needs_background": "light"
     },
     "output_type": "display_data"
    }
   ],
   "source": [
    "# Visualize the learned weights for each class\n",
    "w = best_softmax.W[:-1,:] # strip out the bias\n",
    "w = w.reshape(32, 32, 3, 10)\n",
    "\n",
    "w_min, w_max = np.min(w), np.max(w)\n",
    "\n",
    "classes = ['plane', 'car', 'bird', 'cat', 'deer', 'dog', 'frog', 'horse', 'ship', 'truck']\n",
    "for i in range(10):\n",
    "    plt.subplot(2, 5, i + 1)\n",
    "    \n",
    "    # Rescale the weights to be between 0 and 255\n",
    "    wimg = 255.0 * (w[:, :, :, i].squeeze() - w_min) / (w_max - w_min)\n",
    "    plt.imshow(wimg.astype('uint8'))\n",
    "    plt.axis('off')\n",
    "    plt.title(classes[i])"
   ]
  },
  {
   "cell_type": "code",
   "execution_count": null,
   "metadata": {
    "collapsed": true,
    "jupyter": {
     "outputs_hidden": true
    }
   },
   "outputs": [],
   "source": []
  }
 ],
 "metadata": {
  "kernelspec": {
   "display_name": "Python 3",
   "language": "python",
   "name": "python3"
  },
  "language_info": {
   "codemirror_mode": {
    "name": "ipython",
    "version": 3
   },
   "file_extension": ".py",
   "mimetype": "text/x-python",
   "name": "python",
   "nbconvert_exporter": "python",
   "pygments_lexer": "ipython3",
   "version": "3.7.4"
  }
 },
 "nbformat": 4,
 "nbformat_minor": 4
}
