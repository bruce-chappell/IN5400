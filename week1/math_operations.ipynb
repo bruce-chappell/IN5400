{
 "cells": [
  {
   "cell_type": "markdown",
   "metadata": {},
   "source": [
    "## Some math in python\n",
    "\n",
    "Complete the code in the functions math1-math12 below.\n"
   ]
  },
  {
   "cell_type": "code",
   "execution_count": 3,
   "metadata": {},
   "outputs": [],
   "source": [
    "import numpy as np\n"
   ]
  },
  {
   "cell_type": "code",
   "execution_count": 16,
   "metadata": {},
   "outputs": [],
   "source": [
    "def math1(mat):\n",
    "    \"\"\"\n",
    "    Square each value in mat separatly and return the result\n",
    "    \"\"\"\n",
    "    new_mat = np.zeros_like(mat)\n",
    "    i,j = mat.shape\n",
    "    print(i,j)\n",
    "    print(new_mat)\n",
    "    print(range(4))\n",
    "    for num_i in range(i):\n",
    "        for num_j in range(j):\n",
    "            a = mat[num_i][num_j]\n",
    "            new_mat[num_i][num_j] = a**2 \n",
    "            \n",
    "            \n",
    "    return new_mat"
   ]
  },
  {
   "cell_type": "code",
   "execution_count": 17,
   "metadata": {},
   "outputs": [
    {
     "name": "stdout",
     "output_type": "stream",
     "text": [
      "4 4\n",
      "[[0 0 0 0]\n",
      " [0 0 0 0]\n",
      " [0 0 0 0]\n",
      " [0 0 0 0]]\n",
      "range(0, 4)\n",
      "[[  0   1   4   9]\n",
      " [ 16  25  36  49]\n",
      " [ 64  81 100 121]\n",
      " [144 169 196 225]]\n"
     ]
    }
   ],
   "source": [
    "mat = np.arange(16).reshape((4, 4))\n",
    "print(math1(mat))"
   ]
  },
  {
   "cell_type": "markdown",
   "metadata": {},
   "source": [
    "### Expected output  \n",
    "[[  0   1   4   9]\n",
    " [ 16  25  36  49]\n",
    " [ 64  81 100 121]\n",
    " [144 169 196 225]]\n"
   ]
  },
  {
   "cell_type": "code",
   "execution_count": 18,
   "metadata": {},
   "outputs": [],
   "source": [
    "def math2(mat):\n",
    "    \"\"\"\n",
    "    Return the sum of all the values in mat\n",
    "    \"\"\"\n",
    "    i,j = mat.shape\n",
    "    sum = 0\n",
    "    for num_i in range(i):\n",
    "        for num_j in range(j):\n",
    "            sum += mat[num_i][num_j]\n",
    "        \n",
    "    return sum\n"
   ]
  },
  {
   "cell_type": "code",
   "execution_count": 19,
   "metadata": {},
   "outputs": [
    {
     "name": "stdout",
     "output_type": "stream",
     "text": [
      "120\n"
     ]
    }
   ],
   "source": [
    "mat = np.arange(16).reshape((4, 4))\n",
    "print(math2(mat))"
   ]
  },
  {
   "cell_type": "markdown",
   "metadata": {},
   "source": [
    "### Expected output\n",
    "\n",
    "120\n"
   ]
  },
  {
   "cell_type": "code",
   "execution_count": 20,
   "metadata": {},
   "outputs": [],
   "source": [
    "def math3(mat):\n",
    "    \"\"\"\n",
    "    Return the sum of each row in mat\n",
    "    \"\"\"\n",
    "    i,j = mat.shape\n",
    "    sum = np.zeros(i)\n",
    "    for num_i in range(i):\n",
    "        sum[num_i] = np.sum(mat[num_i,:])\n",
    "    return sum"
   ]
  },
  {
   "cell_type": "code",
   "execution_count": 21,
   "metadata": {},
   "outputs": [
    {
     "name": "stdout",
     "output_type": "stream",
     "text": [
      "[ 6. 22. 38. 54.]\n"
     ]
    }
   ],
   "source": [
    "mat = np.arange(16).reshape((4, 4))\n",
    "print(math3(mat)) "
   ]
  },
  {
   "cell_type": "markdown",
   "metadata": {},
   "source": [
    "### Expected output\n",
    "\n",
    "[ 6 22 38 54]"
   ]
  },
  {
   "cell_type": "code",
   "execution_count": 24,
   "metadata": {},
   "outputs": [],
   "source": [
    "def math4(mat):\n",
    "    \"\"\"\n",
    "    Return a scaled version of mat, so that it sums to 1\n",
    "    \"\"\"\n",
    "    fac = np.sum(mat)\n",
    "    return mat/fac\n"
   ]
  },
  {
   "cell_type": "code",
   "execution_count": 25,
   "metadata": {},
   "outputs": [
    {
     "name": "stdout",
     "output_type": "stream",
     "text": [
      "[[0.         0.00833333 0.01666667 0.025     ]\n",
      " [0.03333333 0.04166667 0.05       0.05833333]\n",
      " [0.06666667 0.075      0.08333333 0.09166667]\n",
      " [0.1        0.10833333 0.11666667 0.125     ]]\n"
     ]
    }
   ],
   "source": [
    "mat = np.arange(16).reshape((4, 4))\n",
    "print(math4(mat))"
   ]
  },
  {
   "cell_type": "markdown",
   "metadata": {},
   "source": [
    "### Expected output\n",
    "\n",
    "[[ 0.          0.00833333  0.01666667  0.025     ]\n",
    " [ 0.03333333  0.04166667  0.05        0.05833333]\n",
    " [ 0.06666667  0.075       0.08333333  0.09166667]\n",
    " [ 0.1         0.10833333  0.11666667  0.125     ]]"
   ]
  },
  {
   "cell_type": "code",
   "execution_count": 26,
   "metadata": {},
   "outputs": [],
   "source": [
    "def math5(mat, v):\n",
    "    \"\"\"\n",
    "    Element-wise multiply each column in mat with vector v\n",
    "    \"\"\"\n",
    "    new_mat = np.zeros_like(mat)\n",
    "    i,j = mat.shape\n",
    "    \n",
    "    for num_j in range(j):\n",
    "        new_mat[:,num_j] = np.multiply(mat[:,num_j],v)\n",
    "    return new_mat"
   ]
  },
  {
   "cell_type": "code",
   "execution_count": 27,
   "metadata": {},
   "outputs": [
    {
     "name": "stdout",
     "output_type": "stream",
     "text": [
      "[[ 0  0  0  0]\n",
      " [ 4  5  6  7]\n",
      " [16 18 20 22]\n",
      " [36 39 42 45]]\n"
     ]
    }
   ],
   "source": [
    "mat = np.arange(16).reshape((4, 4))\n",
    "vec = np.arange(4)\n",
    "print(math5(mat,vec))"
   ]
  },
  {
   "cell_type": "markdown",
   "metadata": {},
   "source": [
    "### Expected output\n",
    "\n",
    "[[ 0  0  0  0]\n",
    " [ 4  5  6  7]\n",
    " [16 18 20 22]\n",
    " [36 39 42 45]]"
   ]
  },
  {
   "cell_type": "code",
   "execution_count": 28,
   "metadata": {},
   "outputs": [],
   "source": [
    "def math6(mat, v):\n",
    "    \"\"\"\n",
    "    Element-wise multiply each row in mat with vector v\n",
    "    \"\"\"\n",
    "    new_mat = np.zeros_like(mat)\n",
    "    i,j = mat.shape\n",
    "    \n",
    "    for num_i in range(j):\n",
    "        new_mat[num_i,:] = np.multiply(mat[num_i,:],v)\n",
    "    return new_mat\n"
   ]
  },
  {
   "cell_type": "code",
   "execution_count": 29,
   "metadata": {},
   "outputs": [
    {
     "name": "stdout",
     "output_type": "stream",
     "text": [
      "[[ 0  1  4  9]\n",
      " [ 0  5 12 21]\n",
      " [ 0  9 20 33]\n",
      " [ 0 13 28 45]]\n"
     ]
    }
   ],
   "source": [
    "mat = np.arange(16).reshape((4, 4))\n",
    "vec = np.arange(4)\n",
    "print(math6(mat,vec))"
   ]
  },
  {
   "cell_type": "markdown",
   "metadata": {},
   "source": [
    "### Expected output\n",
    "\n",
    "[[ 0  1  4  9]\n",
    " [ 0  5 12 21]\n",
    " [ 0  9 20 33]\n",
    " [ 0 13 28 45]]"
   ]
  },
  {
   "cell_type": "code",
   "execution_count": 30,
   "metadata": {},
   "outputs": [],
   "source": [
    "\n",
    "def math7(mat, v):\n",
    "    \"\"\"\n",
    "    Matrix multiply matrix m with vector v\n",
    "    \"\"\"\n",
    "    a = mat @ v\n",
    "    return a"
   ]
  },
  {
   "cell_type": "code",
   "execution_count": 31,
   "metadata": {},
   "outputs": [
    {
     "name": "stdout",
     "output_type": "stream",
     "text": [
      "[14 38 62 86]\n"
     ]
    }
   ],
   "source": [
    "mat = np.arange(16).reshape((4, 4))\n",
    "vec = np.arange(4)\n",
    "print(math7(mat,vec))"
   ]
  },
  {
   "cell_type": "markdown",
   "metadata": {},
   "source": [
    "### Expected output\n",
    "\n",
    "[14 38 62 86]"
   ]
  },
  {
   "cell_type": "code",
   "execution_count": 34,
   "metadata": {},
   "outputs": [],
   "source": [
    "def math8(mat):\n",
    "    \"\"\"\n",
    "    Return the inverse matrix of mat\n",
    "    \"\"\"\n",
    "    a = np.linalg.inv(mat)\n",
    "    return a\n"
   ]
  },
  {
   "cell_type": "code",
   "execution_count": 35,
   "metadata": {},
   "outputs": [
    {
     "name": "stdout",
     "output_type": "stream",
     "text": [
      "[[ 0.6 -0.7]\n",
      " [-0.2  0.4]]\n"
     ]
    }
   ],
   "source": [
    "mat = np.array([[4, 7], [2, 6]])\n",
    "print(math8(mat))"
   ]
  },
  {
   "cell_type": "markdown",
   "metadata": {},
   "source": [
    "### Expected output\n",
    "\n",
    "[[ 0.6 -0.7]\n",
    " [-0.2  0.4]]\n",
    " "
   ]
  },
  {
   "cell_type": "code",
   "execution_count": 36,
   "metadata": {},
   "outputs": [],
   "source": [
    "def math9(mat, v):\n",
    "    \"\"\"\n",
    "    Return the dot-product between each row in mat and v\n",
    "    \"\"\"\n",
    "    a = mat @ v\n",
    "    return a"
   ]
  },
  {
   "cell_type": "code",
   "execution_count": 37,
   "metadata": {},
   "outputs": [
    {
     "name": "stdout",
     "output_type": "stream",
     "text": [
      "[14 38 62 86]\n"
     ]
    }
   ],
   "source": [
    "mat = np.arange(16).reshape((4, 4))\n",
    "vec = np.arange(4)\n",
    "print(math9(mat,vec))"
   ]
  },
  {
   "cell_type": "markdown",
   "metadata": {},
   "source": [
    "### Expected output\n",
    "\n",
    "[14 38 62 86]"
   ]
  },
  {
   "cell_type": "code",
   "execution_count": 50,
   "metadata": {},
   "outputs": [],
   "source": [
    "def math10(mat, v):\n",
    "    \"\"\"\n",
    "    Return the dot-product between each column in mat and v\n",
    "    \"\"\"\n",
    "    i,j = mat.shape\n",
    "    print(j)\n",
    "    new_mat = np.zeros(j)\n",
    "    print(new_mat.shape)\n",
    "    for num_j in range(j):\n",
    "        new_mat[num_j] = mat[:,num_j] @ v\n",
    "    return new_mat\n"
   ]
  },
  {
   "cell_type": "code",
   "execution_count": 51,
   "metadata": {},
   "outputs": [
    {
     "name": "stdout",
     "output_type": "stream",
     "text": [
      "4\n",
      "(4,)\n",
      "[56. 62. 68. 74.]\n"
     ]
    }
   ],
   "source": [
    "mat = np.arange(16).reshape((4, 4))\n",
    "vec = np.arange(4)\n",
    "print(math10(mat,vec))"
   ]
  },
  {
   "cell_type": "markdown",
   "metadata": {},
   "source": [
    "### Expected output\n",
    "\n",
    "[56 62 68 74]"
   ]
  },
  {
   "cell_type": "code",
   "execution_count": 52,
   "metadata": {},
   "outputs": [],
   "source": [
    "def math11(mat1, mat2):\n",
    "    \"\"\"\n",
    "    Return the dot-products between each corresponding (same index) column in mat1 and mat2\n",
    "    \"\"\"\n",
    "    i,j = mat1.shape\n",
    "    n,m = mat2.shape\n",
    "    res = np.zeros(i)\n",
    "    for num_i in range(i):\n",
    "        res[num_i] = mat1[:,num_i] @ mat2[:,num_i]\n",
    "    return res"
   ]
  },
  {
   "cell_type": "code",
   "execution_count": 53,
   "metadata": {},
   "outputs": [
    {
     "name": "stdout",
     "output_type": "stream",
     "text": [
      "[ 56. 174. 324. 506.]\n"
     ]
    }
   ],
   "source": [
    "mat = np.arange(16).reshape((4, 4))\n",
    "print(math11(mat,mat.T))"
   ]
  },
  {
   "cell_type": "markdown",
   "metadata": {},
   "source": [
    "### Expected value\n",
    "\n",
    "[ 56 174 324 506]"
   ]
  },
  {
   "cell_type": "code",
   "execution_count": null,
   "metadata": {
    "collapsed": true,
    "jupyter": {
     "outputs_hidden": true
    }
   },
   "outputs": [],
   "source": []
  }
 ],
 "metadata": {
  "kernelspec": {
   "display_name": "Python 3",
   "language": "python",
   "name": "python3"
  },
  "language_info": {
   "codemirror_mode": {
    "name": "ipython",
    "version": 3
   },
   "file_extension": ".py",
   "mimetype": "text/x-python",
   "name": "python",
   "nbconvert_exporter": "python",
   "pygments_lexer": "ipython3",
   "version": "3.7.3"
  }
 },
 "nbformat": 4,
 "nbformat_minor": 4
}
